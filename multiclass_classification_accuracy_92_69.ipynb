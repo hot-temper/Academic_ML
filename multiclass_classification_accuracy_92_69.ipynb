{
  "cells": [
    {
      "cell_type": "markdown",
      "metadata": {
        "id": "view-in-github",
        "colab_type": "text"
      },
      "source": [
        "<a href=\"https://colab.research.google.com/github/hot-temper/Academic_ML/blob/main/multiclass_classification_accuracy_92_69.ipynb\" target=\"_parent\"><img src=\"https://colab.research.google.com/assets/colab-badge.svg\" alt=\"Open In Colab\"/></a>"
      ]
    },
    {
      "cell_type": "code",
      "execution_count": null,
      "id": "31dcf047",
      "metadata": {
        "_cell_guid": "b1076dfc-b9ad-4769-8c92-a6c4dae69d19",
        "_uuid": "8f2839f25d086af736a60e9eeb907d3b93b6e0e5",
        "execution": {
          "iopub.execute_input": "2025-10-02T08:07:56.008517Z",
          "iopub.status.busy": "2025-10-02T08:07:56.008156Z",
          "iopub.status.idle": "2025-10-02T08:08:01.978242Z",
          "shell.execute_reply": "2025-10-02T08:08:01.977132Z"
        },
        "papermill": {
          "duration": 5.983788,
          "end_time": "2025-10-02T08:08:01.980030",
          "exception": false,
          "start_time": "2025-10-02T08:07:55.996242",
          "status": "completed"
        },
        "tags": [],
        "id": "31dcf047"
      },
      "outputs": [],
      "source": [
        "import os\n",
        "import shutil\n",
        "import random\n",
        "import kagglehub\n",
        "import numpy as np\n",
        "import matplotlib.pyplot as plt\n",
        "import pandas as pd\n",
        "import seaborn as sns\n",
        "from sklearn.linear_model import LogisticRegression , RidgeClassifier\n",
        "from sklearn.model_selection import train_test_split , learning_curve , GridSearchCV , RandomizedSearchCV\n",
        "from sklearn.preprocessing import StandardScaler , RobustScaler , PolynomialFeatures , MinMaxScaler , label_binarize\n",
        "from sklearn.neighbors import KNeighborsClassifier\n",
        "from sklearn.svm import SVC\n",
        "from sklearn.tree import DecisionTreeClassifier\n",
        "from sklearn.metrics import accuracy_score , confusion_matrix , classification_report , f1_score , roc_curve , roc_auc_score , precision_recall_curve , average_precision_score , roc_curve, auc\n",
        "from sklearn.ensemble import RandomForestClassifier, BaggingClassifier , AdaBoostClassifier , StackingClassifier\n",
        "from sklearn.pipeline import make_pipeline\n",
        "from sklearn.compose import make_column_transformer , make_column_selector\n",
        "from sklearn.feature_selection import SelectKBest, f_classif"
      ]
    },
    {
      "cell_type": "code",
      "execution_count": null,
      "id": "6975512b",
      "metadata": {
        "execution": {
          "iopub.execute_input": "2025-10-02T08:08:02.001068Z",
          "iopub.status.busy": "2025-10-02T08:08:02.000532Z",
          "iopub.status.idle": "2025-10-02T08:08:02.025473Z",
          "shell.execute_reply": "2025-10-02T08:08:02.024523Z"
        },
        "papermill": {
          "duration": 0.037478,
          "end_time": "2025-10-02T08:08:02.027475",
          "exception": false,
          "start_time": "2025-10-02T08:08:01.989997",
          "status": "completed"
        },
        "tags": [],
        "id": "6975512b",
        "outputId": "10251e2c-f88c-4566-b766-63e1dd36a89b",
        "colab": {
          "base_uri": "https://localhost:8080/",
          "height": 321
        }
      },
      "outputs": [
        {
          "output_type": "error",
          "ename": "FileNotFoundError",
          "evalue": "[Errno 2] No such file or directory: '/kaggle/input/earthquake-alert-prediction-dataset/earthquake_alert_balanced_dataset.csv'",
          "traceback": [
            "\u001b[0;31m---------------------------------------------------------------------------\u001b[0m",
            "\u001b[0;31mFileNotFoundError\u001b[0m                         Traceback (most recent call last)",
            "\u001b[0;32m/tmp/ipython-input-3595195244.py\u001b[0m in \u001b[0;36m<cell line: 0>\u001b[0;34m()\u001b[0m\n\u001b[1;32m      1\u001b[0m \u001b[0mpath\u001b[0m\u001b[0;34m=\u001b[0m\u001b[0;34m'/kaggle/input/earthquake-alert-prediction-dataset/earthquake_alert_balanced_dataset.csv'\u001b[0m\u001b[0;34m\u001b[0m\u001b[0;34m\u001b[0m\u001b[0m\n\u001b[1;32m      2\u001b[0m \u001b[0;34m\u001b[0m\u001b[0m\n\u001b[0;32m----> 3\u001b[0;31m \u001b[0mdata\u001b[0m \u001b[0;34m=\u001b[0m \u001b[0mpd\u001b[0m\u001b[0;34m.\u001b[0m\u001b[0mread_csv\u001b[0m\u001b[0;34m(\u001b[0m\u001b[0mpath\u001b[0m\u001b[0;34m)\u001b[0m\u001b[0;34m\u001b[0m\u001b[0;34m\u001b[0m\u001b[0m\n\u001b[0m",
            "\u001b[0;32m/usr/local/lib/python3.12/dist-packages/pandas/io/parsers/readers.py\u001b[0m in \u001b[0;36mread_csv\u001b[0;34m(filepath_or_buffer, sep, delimiter, header, names, index_col, usecols, dtype, engine, converters, true_values, false_values, skipinitialspace, skiprows, skipfooter, nrows, na_values, keep_default_na, na_filter, verbose, skip_blank_lines, parse_dates, infer_datetime_format, keep_date_col, date_parser, date_format, dayfirst, cache_dates, iterator, chunksize, compression, thousands, decimal, lineterminator, quotechar, quoting, doublequote, escapechar, comment, encoding, encoding_errors, dialect, on_bad_lines, delim_whitespace, low_memory, memory_map, float_precision, storage_options, dtype_backend)\u001b[0m\n\u001b[1;32m   1024\u001b[0m     \u001b[0mkwds\u001b[0m\u001b[0;34m.\u001b[0m\u001b[0mupdate\u001b[0m\u001b[0;34m(\u001b[0m\u001b[0mkwds_defaults\u001b[0m\u001b[0;34m)\u001b[0m\u001b[0;34m\u001b[0m\u001b[0;34m\u001b[0m\u001b[0m\n\u001b[1;32m   1025\u001b[0m \u001b[0;34m\u001b[0m\u001b[0m\n\u001b[0;32m-> 1026\u001b[0;31m     \u001b[0;32mreturn\u001b[0m \u001b[0m_read\u001b[0m\u001b[0;34m(\u001b[0m\u001b[0mfilepath_or_buffer\u001b[0m\u001b[0;34m,\u001b[0m \u001b[0mkwds\u001b[0m\u001b[0;34m)\u001b[0m\u001b[0;34m\u001b[0m\u001b[0;34m\u001b[0m\u001b[0m\n\u001b[0m\u001b[1;32m   1027\u001b[0m \u001b[0;34m\u001b[0m\u001b[0m\n\u001b[1;32m   1028\u001b[0m \u001b[0;34m\u001b[0m\u001b[0m\n",
            "\u001b[0;32m/usr/local/lib/python3.12/dist-packages/pandas/io/parsers/readers.py\u001b[0m in \u001b[0;36m_read\u001b[0;34m(filepath_or_buffer, kwds)\u001b[0m\n\u001b[1;32m    618\u001b[0m \u001b[0;34m\u001b[0m\u001b[0m\n\u001b[1;32m    619\u001b[0m     \u001b[0;31m# Create the parser.\u001b[0m\u001b[0;34m\u001b[0m\u001b[0;34m\u001b[0m\u001b[0m\n\u001b[0;32m--> 620\u001b[0;31m     \u001b[0mparser\u001b[0m \u001b[0;34m=\u001b[0m \u001b[0mTextFileReader\u001b[0m\u001b[0;34m(\u001b[0m\u001b[0mfilepath_or_buffer\u001b[0m\u001b[0;34m,\u001b[0m \u001b[0;34m**\u001b[0m\u001b[0mkwds\u001b[0m\u001b[0;34m)\u001b[0m\u001b[0;34m\u001b[0m\u001b[0;34m\u001b[0m\u001b[0m\n\u001b[0m\u001b[1;32m    621\u001b[0m \u001b[0;34m\u001b[0m\u001b[0m\n\u001b[1;32m    622\u001b[0m     \u001b[0;32mif\u001b[0m \u001b[0mchunksize\u001b[0m \u001b[0;32mor\u001b[0m \u001b[0miterator\u001b[0m\u001b[0;34m:\u001b[0m\u001b[0;34m\u001b[0m\u001b[0;34m\u001b[0m\u001b[0m\n",
            "\u001b[0;32m/usr/local/lib/python3.12/dist-packages/pandas/io/parsers/readers.py\u001b[0m in \u001b[0;36m__init__\u001b[0;34m(self, f, engine, **kwds)\u001b[0m\n\u001b[1;32m   1618\u001b[0m \u001b[0;34m\u001b[0m\u001b[0m\n\u001b[1;32m   1619\u001b[0m         \u001b[0mself\u001b[0m\u001b[0;34m.\u001b[0m\u001b[0mhandles\u001b[0m\u001b[0;34m:\u001b[0m \u001b[0mIOHandles\u001b[0m \u001b[0;34m|\u001b[0m \u001b[0;32mNone\u001b[0m \u001b[0;34m=\u001b[0m \u001b[0;32mNone\u001b[0m\u001b[0;34m\u001b[0m\u001b[0;34m\u001b[0m\u001b[0m\n\u001b[0;32m-> 1620\u001b[0;31m         \u001b[0mself\u001b[0m\u001b[0;34m.\u001b[0m\u001b[0m_engine\u001b[0m \u001b[0;34m=\u001b[0m \u001b[0mself\u001b[0m\u001b[0;34m.\u001b[0m\u001b[0m_make_engine\u001b[0m\u001b[0;34m(\u001b[0m\u001b[0mf\u001b[0m\u001b[0;34m,\u001b[0m \u001b[0mself\u001b[0m\u001b[0;34m.\u001b[0m\u001b[0mengine\u001b[0m\u001b[0;34m)\u001b[0m\u001b[0;34m\u001b[0m\u001b[0;34m\u001b[0m\u001b[0m\n\u001b[0m\u001b[1;32m   1621\u001b[0m \u001b[0;34m\u001b[0m\u001b[0m\n\u001b[1;32m   1622\u001b[0m     \u001b[0;32mdef\u001b[0m \u001b[0mclose\u001b[0m\u001b[0;34m(\u001b[0m\u001b[0mself\u001b[0m\u001b[0;34m)\u001b[0m \u001b[0;34m->\u001b[0m \u001b[0;32mNone\u001b[0m\u001b[0;34m:\u001b[0m\u001b[0;34m\u001b[0m\u001b[0;34m\u001b[0m\u001b[0m\n",
            "\u001b[0;32m/usr/local/lib/python3.12/dist-packages/pandas/io/parsers/readers.py\u001b[0m in \u001b[0;36m_make_engine\u001b[0;34m(self, f, engine)\u001b[0m\n\u001b[1;32m   1878\u001b[0m                 \u001b[0;32mif\u001b[0m \u001b[0;34m\"b\"\u001b[0m \u001b[0;32mnot\u001b[0m \u001b[0;32min\u001b[0m \u001b[0mmode\u001b[0m\u001b[0;34m:\u001b[0m\u001b[0;34m\u001b[0m\u001b[0;34m\u001b[0m\u001b[0m\n\u001b[1;32m   1879\u001b[0m                     \u001b[0mmode\u001b[0m \u001b[0;34m+=\u001b[0m \u001b[0;34m\"b\"\u001b[0m\u001b[0;34m\u001b[0m\u001b[0;34m\u001b[0m\u001b[0m\n\u001b[0;32m-> 1880\u001b[0;31m             self.handles = get_handle(\n\u001b[0m\u001b[1;32m   1881\u001b[0m                 \u001b[0mf\u001b[0m\u001b[0;34m,\u001b[0m\u001b[0;34m\u001b[0m\u001b[0;34m\u001b[0m\u001b[0m\n\u001b[1;32m   1882\u001b[0m                 \u001b[0mmode\u001b[0m\u001b[0;34m,\u001b[0m\u001b[0;34m\u001b[0m\u001b[0;34m\u001b[0m\u001b[0m\n",
            "\u001b[0;32m/usr/local/lib/python3.12/dist-packages/pandas/io/common.py\u001b[0m in \u001b[0;36mget_handle\u001b[0;34m(path_or_buf, mode, encoding, compression, memory_map, is_text, errors, storage_options)\u001b[0m\n\u001b[1;32m    871\u001b[0m         \u001b[0;32mif\u001b[0m \u001b[0mioargs\u001b[0m\u001b[0;34m.\u001b[0m\u001b[0mencoding\u001b[0m \u001b[0;32mand\u001b[0m \u001b[0;34m\"b\"\u001b[0m \u001b[0;32mnot\u001b[0m \u001b[0;32min\u001b[0m \u001b[0mioargs\u001b[0m\u001b[0;34m.\u001b[0m\u001b[0mmode\u001b[0m\u001b[0;34m:\u001b[0m\u001b[0;34m\u001b[0m\u001b[0;34m\u001b[0m\u001b[0m\n\u001b[1;32m    872\u001b[0m             \u001b[0;31m# Encoding\u001b[0m\u001b[0;34m\u001b[0m\u001b[0;34m\u001b[0m\u001b[0m\n\u001b[0;32m--> 873\u001b[0;31m             handle = open(\n\u001b[0m\u001b[1;32m    874\u001b[0m                 \u001b[0mhandle\u001b[0m\u001b[0;34m,\u001b[0m\u001b[0;34m\u001b[0m\u001b[0;34m\u001b[0m\u001b[0m\n\u001b[1;32m    875\u001b[0m                 \u001b[0mioargs\u001b[0m\u001b[0;34m.\u001b[0m\u001b[0mmode\u001b[0m\u001b[0;34m,\u001b[0m\u001b[0;34m\u001b[0m\u001b[0;34m\u001b[0m\u001b[0m\n",
            "\u001b[0;31mFileNotFoundError\u001b[0m: [Errno 2] No such file or directory: '/kaggle/input/earthquake-alert-prediction-dataset/earthquake_alert_balanced_dataset.csv'"
          ]
        }
      ],
      "source": [
        "path='/kaggle/input/earthquake-alert-prediction-dataset/earthquake_alert_balanced_dataset.csv'\n",
        "\n",
        "data = pd.read_csv(path)"
      ]
    },
    {
      "cell_type": "markdown",
      "id": "bb2a7e3c",
      "metadata": {
        "papermill": {
          "duration": 0.010332,
          "end_time": "2025-10-02T08:08:02.047229",
          "exception": false,
          "start_time": "2025-10-02T08:08:02.036897",
          "status": "completed"
        },
        "tags": [],
        "id": "bb2a7e3c"
      },
      "source": [
        "# Exploration et analyse des données ( EDA )"
      ]
    },
    {
      "cell_type": "markdown",
      "id": "1092de84",
      "metadata": {
        "papermill": {
          "duration": 0.008818,
          "end_time": "2025-10-02T08:08:02.065159",
          "exception": false,
          "start_time": "2025-10-02T08:08:02.056341",
          "status": "completed"
        },
        "tags": [],
        "id": "1092de84"
      },
      "source": [
        "# Analyse de la forme\n"
      ]
    },
    {
      "cell_type": "code",
      "execution_count": null,
      "id": "ea161da2",
      "metadata": {
        "execution": {
          "iopub.execute_input": "2025-10-02T08:08:02.084847Z",
          "iopub.status.busy": "2025-10-02T08:08:02.084469Z",
          "iopub.status.idle": "2025-10-02T08:08:02.089174Z",
          "shell.execute_reply": "2025-10-02T08:08:02.088079Z"
        },
        "papermill": {
          "duration": 0.016544,
          "end_time": "2025-10-02T08:08:02.090859",
          "exception": false,
          "start_time": "2025-10-02T08:08:02.074315",
          "status": "completed"
        },
        "tags": [],
        "id": "ea161da2"
      },
      "outputs": [],
      "source": [
        "earthquake = data.copy()"
      ]
    },
    {
      "cell_type": "code",
      "execution_count": null,
      "id": "abc419e8",
      "metadata": {
        "execution": {
          "iopub.execute_input": "2025-10-02T08:08:02.110390Z",
          "iopub.status.busy": "2025-10-02T08:08:02.110072Z",
          "iopub.status.idle": "2025-10-02T08:08:02.141612Z",
          "shell.execute_reply": "2025-10-02T08:08:02.140584Z"
        },
        "papermill": {
          "duration": 0.043456,
          "end_time": "2025-10-02T08:08:02.143600",
          "exception": false,
          "start_time": "2025-10-02T08:08:02.100144",
          "status": "completed"
        },
        "tags": [],
        "id": "abc419e8"
      },
      "outputs": [],
      "source": [
        "earthquake.head()"
      ]
    },
    {
      "cell_type": "code",
      "execution_count": null,
      "id": "744ecf80",
      "metadata": {
        "execution": {
          "iopub.execute_input": "2025-10-02T08:08:02.164150Z",
          "iopub.status.busy": "2025-10-02T08:08:02.163784Z",
          "iopub.status.idle": "2025-10-02T08:08:02.169889Z",
          "shell.execute_reply": "2025-10-02T08:08:02.168934Z"
        },
        "papermill": {
          "duration": 0.018048,
          "end_time": "2025-10-02T08:08:02.171363",
          "exception": false,
          "start_time": "2025-10-02T08:08:02.153315",
          "status": "completed"
        },
        "tags": [],
        "id": "744ecf80"
      },
      "outputs": [],
      "source": [
        "earthquake.shape"
      ]
    },
    {
      "cell_type": "code",
      "execution_count": null,
      "id": "ddb9b23d",
      "metadata": {
        "execution": {
          "iopub.execute_input": "2025-10-02T08:08:02.192439Z",
          "iopub.status.busy": "2025-10-02T08:08:02.191632Z",
          "iopub.status.idle": "2025-10-02T08:08:02.221007Z",
          "shell.execute_reply": "2025-10-02T08:08:02.219629Z"
        },
        "papermill": {
          "duration": 0.041514,
          "end_time": "2025-10-02T08:08:02.222654",
          "exception": false,
          "start_time": "2025-10-02T08:08:02.181140",
          "status": "completed"
        },
        "tags": [],
        "id": "ddb9b23d"
      },
      "outputs": [],
      "source": [
        "earthquake.info()"
      ]
    },
    {
      "cell_type": "code",
      "execution_count": null,
      "id": "9c3c2884",
      "metadata": {
        "execution": {
          "iopub.execute_input": "2025-10-02T08:08:02.243451Z",
          "iopub.status.busy": "2025-10-02T08:08:02.242872Z",
          "iopub.status.idle": "2025-10-02T08:08:02.250263Z",
          "shell.execute_reply": "2025-10-02T08:08:02.249237Z"
        },
        "papermill": {
          "duration": 0.019382,
          "end_time": "2025-10-02T08:08:02.251918",
          "exception": false,
          "start_time": "2025-10-02T08:08:02.232536",
          "status": "completed"
        },
        "tags": [],
        "id": "9c3c2884"
      },
      "outputs": [],
      "source": [
        "earthquake.dtypes"
      ]
    },
    {
      "cell_type": "code",
      "execution_count": null,
      "id": "eb5b245f",
      "metadata": {
        "execution": {
          "iopub.execute_input": "2025-10-02T08:08:02.274586Z",
          "iopub.status.busy": "2025-10-02T08:08:02.273601Z",
          "iopub.status.idle": "2025-10-02T08:08:02.280093Z",
          "shell.execute_reply": "2025-10-02T08:08:02.279229Z"
        },
        "papermill": {
          "duration": 0.018697,
          "end_time": "2025-10-02T08:08:02.281838",
          "exception": false,
          "start_time": "2025-10-02T08:08:02.263141",
          "status": "completed"
        },
        "tags": [],
        "id": "eb5b245f"
      },
      "outputs": [],
      "source": [
        "earthquake.columns"
      ]
    },
    {
      "cell_type": "code",
      "execution_count": null,
      "id": "4c3f6ec8",
      "metadata": {
        "execution": {
          "iopub.execute_input": "2025-10-02T08:08:02.303470Z",
          "iopub.status.busy": "2025-10-02T08:08:02.303153Z",
          "iopub.status.idle": "2025-10-02T08:08:02.310817Z",
          "shell.execute_reply": "2025-10-02T08:08:02.309833Z"
        },
        "papermill": {
          "duration": 0.020762,
          "end_time": "2025-10-02T08:08:02.312494",
          "exception": false,
          "start_time": "2025-10-02T08:08:02.291732",
          "status": "completed"
        },
        "tags": [],
        "id": "4c3f6ec8",
        "outputId": "c34f31e9-a7bd-4c04-a420-4cce9d1ee076",
        "colab": {
          "base_uri": "https://localhost:8080/",
          "height": 141
        }
      },
      "outputs": [
        {
          "output_type": "error",
          "ename": "NameError",
          "evalue": "name 'earthquake' is not defined",
          "traceback": [
            "\u001b[0;31m---------------------------------------------------------------------------\u001b[0m",
            "\u001b[0;31mNameError\u001b[0m                                 Traceback (most recent call last)",
            "\u001b[0;32m/tmp/ipython-input-1301549680.py\u001b[0m in \u001b[0;36m<cell line: 0>\u001b[0;34m()\u001b[0m\n\u001b[0;32m----> 1\u001b[0;31m \u001b[0mearthquake\u001b[0m\u001b[0;34m.\u001b[0m\u001b[0misna\u001b[0m\u001b[0;34m(\u001b[0m\u001b[0;34m)\u001b[0m\u001b[0;34m.\u001b[0m\u001b[0msum\u001b[0m\u001b[0;34m(\u001b[0m\u001b[0;34m)\u001b[0m\u001b[0;34m\u001b[0m\u001b[0;34m\u001b[0m\u001b[0m\n\u001b[0m",
            "\u001b[0;31mNameError\u001b[0m: name 'earthquake' is not defined"
          ]
        }
      ],
      "source": [
        "earthquake.isna().sum()"
      ]
    },
    {
      "cell_type": "code",
      "execution_count": null,
      "id": "99663b06",
      "metadata": {
        "execution": {
          "iopub.execute_input": "2025-10-02T08:08:02.333980Z",
          "iopub.status.busy": "2025-10-02T08:08:02.333379Z",
          "iopub.status.idle": "2025-10-02T08:08:02.359785Z",
          "shell.execute_reply": "2025-10-02T08:08:02.358655Z"
        },
        "papermill": {
          "duration": 0.038962,
          "end_time": "2025-10-02T08:08:02.361495",
          "exception": false,
          "start_time": "2025-10-02T08:08:02.322533",
          "status": "completed"
        },
        "tags": [],
        "id": "99663b06"
      },
      "outputs": [],
      "source": [
        "earthquake.describe()"
      ]
    },
    {
      "cell_type": "code",
      "execution_count": null,
      "id": "d7b9ce7b",
      "metadata": {
        "execution": {
          "iopub.execute_input": "2025-10-02T08:08:02.383645Z",
          "iopub.status.busy": "2025-10-02T08:08:02.383272Z",
          "iopub.status.idle": "2025-10-02T08:08:02.389536Z",
          "shell.execute_reply": "2025-10-02T08:08:02.388643Z"
        },
        "papermill": {
          "duration": 0.019105,
          "end_time": "2025-10-02T08:08:02.391037",
          "exception": false,
          "start_time": "2025-10-02T08:08:02.371932",
          "status": "completed"
        },
        "tags": [],
        "id": "d7b9ce7b"
      },
      "outputs": [],
      "source": [
        "def detect_outilers(df , v) :\n",
        "\n",
        "    Q1 = df[v].quantile(0.25)\n",
        "    Q3 = df[v].quantile(0.75)\n",
        "    IQR = Q3 - Q1\n",
        "\n",
        "    # Définir les bornes\n",
        "    lower_bound = Q1 - 1.5 * IQR\n",
        "    upper_bound = Q3 + 1.5 * IQR\n",
        "\n",
        "    # Sélectionner les valeurs aberrantes\n",
        "    outliers = df[(df[v] < lower_bound) | (df[v] > upper_bound)]\n",
        "    return outliers.shape[0]"
      ]
    },
    {
      "cell_type": "code",
      "execution_count": null,
      "id": "13d1bf73",
      "metadata": {
        "execution": {
          "iopub.execute_input": "2025-10-02T08:08:02.413620Z",
          "iopub.status.busy": "2025-10-02T08:08:02.412644Z",
          "iopub.status.idle": "2025-10-02T08:08:02.435149Z",
          "shell.execute_reply": "2025-10-02T08:08:02.434005Z"
        },
        "papermill": {
          "duration": 0.03517,
          "end_time": "2025-10-02T08:08:02.436801",
          "exception": false,
          "start_time": "2025-10-02T08:08:02.401631",
          "status": "completed"
        },
        "tags": [],
        "id": "13d1bf73"
      },
      "outputs": [],
      "source": [
        "for v in earthquake.select_dtypes('float') :\n",
        "    print(f\"Nombre d'outliers de la varible {v} : {detect_outilers(earthquake , v)}\")"
      ]
    },
    {
      "cell_type": "markdown",
      "id": "ccd59688",
      "metadata": {
        "papermill": {
          "duration": 0.010074,
          "end_time": "2025-10-02T08:08:02.457183",
          "exception": false,
          "start_time": "2025-10-02T08:08:02.447109",
          "status": "completed"
        },
        "tags": [],
        "id": "ccd59688"
      },
      "source": [
        "# Résultats\n"
      ]
    },
    {
      "cell_type": "markdown",
      "id": "c1c188cf",
      "metadata": {
        "papermill": {
          "duration": 0.0101,
          "end_time": "2025-10-02T08:08:02.537132",
          "exception": false,
          "start_time": "2025-10-02T08:08:02.527032",
          "status": "completed"
        },
        "tags": [],
        "id": "c1c188cf"
      },
      "source": [
        "**Varaibles explicatives :** magnitude, depth, cdi, mmi, sig\n",
        "\n",
        "**Varaible Target :** alert\n",
        "\n",
        "**Nombre de lignes et colonnes** : (1300, 6)\n",
        "\n",
        "**Type de variables** Toutes les variables significatives sont de type **float64**"
      ]
    },
    {
      "cell_type": "markdown",
      "id": "74653cca",
      "metadata": {
        "papermill": {
          "duration": 0.009821,
          "end_time": "2025-10-02T08:08:02.557035",
          "exception": false,
          "start_time": "2025-10-02T08:08:02.547214",
          "status": "completed"
        },
        "tags": [],
        "id": "74653cca"
      },
      "source": [
        "# Analyse de fond"
      ]
    },
    {
      "cell_type": "markdown",
      "id": "68fcae17",
      "metadata": {
        "papermill": {
          "duration": 0.010019,
          "end_time": "2025-10-02T08:08:02.577207",
          "exception": false,
          "start_time": "2025-10-02T08:08:02.567188",
          "status": "completed"
        },
        "tags": [],
        "id": "68fcae17"
      },
      "source": [
        "## Analyse de la target :"
      ]
    },
    {
      "cell_type": "code",
      "execution_count": null,
      "id": "75ef7725",
      "metadata": {
        "execution": {
          "iopub.execute_input": "2025-10-02T08:08:02.599112Z",
          "iopub.status.busy": "2025-10-02T08:08:02.598723Z",
          "iopub.status.idle": "2025-10-02T08:08:02.982807Z",
          "shell.execute_reply": "2025-10-02T08:08:02.981874Z"
        },
        "papermill": {
          "duration": 0.397235,
          "end_time": "2025-10-02T08:08:02.984526",
          "exception": false,
          "start_time": "2025-10-02T08:08:02.587291",
          "status": "completed"
        },
        "tags": [],
        "id": "75ef7725"
      },
      "outputs": [],
      "source": [
        "earthquake['alert'].value_counts().plot.bar()"
      ]
    },
    {
      "cell_type": "markdown",
      "id": "ad2419b6",
      "metadata": {
        "papermill": {
          "duration": 0.010337,
          "end_time": "2025-10-02T08:08:03.005653",
          "exception": false,
          "start_time": "2025-10-02T08:08:02.995316",
          "status": "completed"
        },
        "tags": [],
        "id": "ad2419b6"
      },
      "source": [
        "**Conclusion** : Dataset equilibré"
      ]
    },
    {
      "cell_type": "markdown",
      "id": "99d94bc3",
      "metadata": {
        "papermill": {
          "duration": 0.010086,
          "end_time": "2025-10-02T08:08:03.026323",
          "exception": false,
          "start_time": "2025-10-02T08:08:03.016237",
          "status": "completed"
        },
        "tags": [],
        "id": "99d94bc3"
      },
      "source": [
        "## Analyse des variables explicatives :"
      ]
    },
    {
      "cell_type": "markdown",
      "id": "0656d97f",
      "metadata": {
        "papermill": {
          "duration": 0.010456,
          "end_time": "2025-10-02T08:08:03.048169",
          "exception": false,
          "start_time": "2025-10-02T08:08:03.037713",
          "status": "completed"
        },
        "tags": [],
        "id": "0656d97f"
      },
      "source": [
        "## 1) Variables quantitatives :"
      ]
    },
    {
      "cell_type": "code",
      "execution_count": null,
      "id": "db7f45b0",
      "metadata": {
        "execution": {
          "iopub.execute_input": "2025-10-02T08:08:03.070855Z",
          "iopub.status.busy": "2025-10-02T08:08:03.070504Z",
          "iopub.status.idle": "2025-10-02T08:08:04.869551Z",
          "shell.execute_reply": "2025-10-02T08:08:04.868618Z"
        },
        "papermill": {
          "duration": 1.812414,
          "end_time": "2025-10-02T08:08:04.871383",
          "exception": false,
          "start_time": "2025-10-02T08:08:03.058969",
          "status": "completed"
        },
        "tags": [],
        "id": "db7f45b0",
        "outputId": "e5cb6303-2bb4-4b1f-de70-1215533f29c9",
        "colab": {
          "base_uri": "https://localhost:8080/",
          "height": 193
        }
      },
      "outputs": [
        {
          "output_type": "error",
          "ename": "NameError",
          "evalue": "name 'earthquake' is not defined",
          "traceback": [
            "\u001b[0;31m---------------------------------------------------------------------------\u001b[0m",
            "\u001b[0;31mNameError\u001b[0m                                 Traceback (most recent call last)",
            "\u001b[0;32m/tmp/ipython-input-3152783785.py\u001b[0m in \u001b[0;36m<cell line: 0>\u001b[0;34m()\u001b[0m\n\u001b[1;32m      1\u001b[0m \u001b[0mplt\u001b[0m\u001b[0;34m.\u001b[0m\u001b[0mfigure\u001b[0m\u001b[0;34m(\u001b[0m\u001b[0;34m)\u001b[0m\u001b[0;34m\u001b[0m\u001b[0;34m\u001b[0m\u001b[0m\n\u001b[0;32m----> 2\u001b[0;31m \u001b[0;32mfor\u001b[0m \u001b[0mcol\u001b[0m \u001b[0;32min\u001b[0m \u001b[0mearthquake\u001b[0m\u001b[0;34m.\u001b[0m\u001b[0mselect_dtypes\u001b[0m\u001b[0;34m(\u001b[0m\u001b[0;34m'float'\u001b[0m\u001b[0;34m)\u001b[0m \u001b[0;34m:\u001b[0m\u001b[0;34m\u001b[0m\u001b[0;34m\u001b[0m\u001b[0m\n\u001b[0m\u001b[1;32m      3\u001b[0m     \u001b[0msns\u001b[0m\u001b[0;34m.\u001b[0m\u001b[0mdisplot\u001b[0m\u001b[0;34m(\u001b[0m\u001b[0mx\u001b[0m\u001b[0;34m=\u001b[0m\u001b[0mcol\u001b[0m \u001b[0;34m,\u001b[0m\u001b[0mdata\u001b[0m\u001b[0;34m=\u001b[0m\u001b[0mearthquake\u001b[0m\u001b[0;34m,\u001b[0m \u001b[0mkde\u001b[0m\u001b[0;34m=\u001b[0m\u001b[0;32mTrue\u001b[0m\u001b[0;34m)\u001b[0m\u001b[0;34m\u001b[0m\u001b[0;34m\u001b[0m\u001b[0m\n",
            "\u001b[0;31mNameError\u001b[0m: name 'earthquake' is not defined"
          ]
        },
        {
          "output_type": "display_data",
          "data": {
            "text/plain": [
              "<Figure size 640x480 with 0 Axes>"
            ]
          },
          "metadata": {}
        }
      ],
      "source": [
        "plt.figure()\n",
        "for col in earthquake.select_dtypes('float') :\n",
        "    sns.displot(x=col ,data=earthquake, kde=True)"
      ]
    },
    {
      "cell_type": "markdown",
      "id": "678cb54f",
      "metadata": {
        "papermill": {
          "duration": 0.012991,
          "end_time": "2025-10-02T08:08:04.898358",
          "exception": false,
          "start_time": "2025-10-02T08:08:04.885367",
          "status": "completed"
        },
        "tags": [],
        "id": "678cb54f"
      },
      "source": [
        "## 3) Relation entre variables / Target :"
      ]
    },
    {
      "cell_type": "code",
      "execution_count": null,
      "id": "92756976",
      "metadata": {
        "execution": {
          "iopub.execute_input": "2025-10-02T08:08:04.926699Z",
          "iopub.status.busy": "2025-10-02T08:08:04.925828Z",
          "iopub.status.idle": "2025-10-02T08:08:15.940097Z",
          "shell.execute_reply": "2025-10-02T08:08:15.939061Z"
        },
        "papermill": {
          "duration": 11.040496,
          "end_time": "2025-10-02T08:08:15.951952",
          "exception": false,
          "start_time": "2025-10-02T08:08:04.911456",
          "status": "completed"
        },
        "tags": [],
        "id": "92756976"
      },
      "outputs": [],
      "source": [
        "sns.pairplot(data=earthquake, hue='alert')"
      ]
    },
    {
      "cell_type": "code",
      "execution_count": null,
      "id": "6bf59cda",
      "metadata": {
        "execution": {
          "iopub.execute_input": "2025-10-02T08:08:16.005845Z",
          "iopub.status.busy": "2025-10-02T08:08:16.004902Z",
          "iopub.status.idle": "2025-10-02T08:08:16.838212Z",
          "shell.execute_reply": "2025-10-02T08:08:16.837149Z"
        },
        "papermill": {
          "duration": 0.862376,
          "end_time": "2025-10-02T08:08:16.840089",
          "exception": false,
          "start_time": "2025-10-02T08:08:15.977713",
          "status": "completed"
        },
        "tags": [],
        "id": "6bf59cda"
      },
      "outputs": [],
      "source": [
        "for v in earthquake.select_dtypes('float') :\n",
        "  plt.figure()\n",
        "  sns.boxplot(x='alert', y=v, data=earthquake)"
      ]
    },
    {
      "cell_type": "markdown",
      "id": "4c39b1ea",
      "metadata": {
        "papermill": {
          "duration": 0.026665,
          "end_time": "2025-10-02T08:08:16.895226",
          "exception": false,
          "start_time": "2025-10-02T08:08:16.868561",
          "status": "completed"
        },
        "tags": [],
        "id": "4c39b1ea"
      },
      "source": [
        "## 4) Analyse plus détaillée :"
      ]
    },
    {
      "cell_type": "code",
      "execution_count": null,
      "id": "ad13abe2",
      "metadata": {
        "execution": {
          "iopub.execute_input": "2025-10-02T08:08:16.949965Z",
          "iopub.status.busy": "2025-10-02T08:08:16.948964Z",
          "iopub.status.idle": "2025-10-02T08:08:17.243874Z",
          "shell.execute_reply": "2025-10-02T08:08:17.242726Z"
        },
        "papermill": {
          "duration": 0.324096,
          "end_time": "2025-10-02T08:08:17.245559",
          "exception": false,
          "start_time": "2025-10-02T08:08:16.921463",
          "status": "completed"
        },
        "tags": [],
        "id": "ad13abe2"
      },
      "outputs": [],
      "source": [
        "sns.heatmap(earthquake[earthquake.select_dtypes('float').columns].corr() , annot=True)"
      ]
    },
    {
      "cell_type": "markdown",
      "id": "da8ba690",
      "metadata": {
        "papermill": {
          "duration": 0.027479,
          "end_time": "2025-10-02T08:08:17.302546",
          "exception": false,
          "start_time": "2025-10-02T08:08:17.275067",
          "status": "completed"
        },
        "tags": [],
        "id": "da8ba690"
      },
      "source": [
        "Pas de corrélation entre les variables"
      ]
    },
    {
      "cell_type": "code",
      "execution_count": null,
      "id": "1f9186b4",
      "metadata": {
        "execution": {
          "iopub.execute_input": "2025-10-02T08:08:17.359921Z",
          "iopub.status.busy": "2025-10-02T08:08:17.358949Z",
          "iopub.status.idle": "2025-10-02T08:08:17.381796Z",
          "shell.execute_reply": "2025-10-02T08:08:17.380593Z"
        },
        "papermill": {
          "duration": 0.05338,
          "end_time": "2025-10-02T08:08:17.383466",
          "exception": false,
          "start_time": "2025-10-02T08:08:17.330086",
          "status": "completed"
        },
        "tags": [],
        "id": "1f9186b4",
        "outputId": "8fcdf8a6-8250-40aa-b561-a9d4eefa23e4",
        "colab": {
          "base_uri": "https://localhost:8080/",
          "height": 211
        }
      },
      "outputs": [
        {
          "output_type": "error",
          "ename": "NameError",
          "evalue": "name 'earthquake' is not defined",
          "traceback": [
            "\u001b[0;31m---------------------------------------------------------------------------\u001b[0m",
            "\u001b[0;31mNameError\u001b[0m                                 Traceback (most recent call last)",
            "\u001b[0;32m/tmp/ipython-input-1139226407.py\u001b[0m in \u001b[0;36m<cell line: 0>\u001b[0;34m()\u001b[0m\n\u001b[1;32m      2\u001b[0m \u001b[0;34m\u001b[0m\u001b[0m\n\u001b[1;32m      3\u001b[0m \u001b[0;31m# Boucle sur toutes les variables quantitatives\u001b[0m\u001b[0;34m\u001b[0m\u001b[0;34m\u001b[0m\u001b[0m\n\u001b[0;32m----> 4\u001b[0;31m \u001b[0;32mfor\u001b[0m \u001b[0mcol\u001b[0m \u001b[0;32min\u001b[0m \u001b[0mearthquake\u001b[0m\u001b[0;34m.\u001b[0m\u001b[0mselect_dtypes\u001b[0m\u001b[0;34m(\u001b[0m\u001b[0;34m'float'\u001b[0m\u001b[0;34m)\u001b[0m\u001b[0;34m:\u001b[0m\u001b[0;34m\u001b[0m\u001b[0;34m\u001b[0m\u001b[0m\n\u001b[0m\u001b[1;32m      5\u001b[0m     \u001b[0;31m# Grouper les données par niveau d'alerte\u001b[0m\u001b[0;34m\u001b[0m\u001b[0;34m\u001b[0m\u001b[0m\n\u001b[1;32m      6\u001b[0m     \u001b[0mgroups\u001b[0m \u001b[0;34m=\u001b[0m \u001b[0;34m[\u001b[0m\u001b[0mgroup\u001b[0m\u001b[0;34m[\u001b[0m\u001b[0mcol\u001b[0m\u001b[0;34m]\u001b[0m\u001b[0;34m.\u001b[0m\u001b[0mvalues\u001b[0m \u001b[0;32mfor\u001b[0m \u001b[0mname\u001b[0m\u001b[0;34m,\u001b[0m \u001b[0mgroup\u001b[0m \u001b[0;32min\u001b[0m \u001b[0mearthquake\u001b[0m\u001b[0;34m.\u001b[0m\u001b[0mgroupby\u001b[0m\u001b[0;34m(\u001b[0m\u001b[0;34m'alert'\u001b[0m\u001b[0;34m)\u001b[0m\u001b[0;34m]\u001b[0m\u001b[0;34m\u001b[0m\u001b[0;34m\u001b[0m\u001b[0m\n",
            "\u001b[0;31mNameError\u001b[0m: name 'earthquake' is not defined"
          ]
        }
      ],
      "source": [
        "from scipy import stats\n",
        "\n",
        "# Boucle sur toutes les variables quantitatives\n",
        "for col in earthquake.select_dtypes('float'):\n",
        "    # Grouper les données par niveau d'alerte\n",
        "    groups = [group[col].values for name, group in earthquake.groupby('alert')]\n",
        "\n",
        "    # Test ANOVA\n",
        "    f_stat, p = stats.f_oneway(*groups)\n",
        "\n",
        "    if p < 0.005:\n",
        "        print(f\"Dépendance entre {col} et alert  (p-value={p:.5f})\")\n",
        "    else:\n",
        "        print(f\"Indépendance entre {col} et alert  (p-value={p:.5f})\")\n"
      ]
    },
    {
      "cell_type": "markdown",
      "id": "b46be7e8",
      "metadata": {
        "papermill": {
          "duration": 0.026916,
          "end_time": "2025-10-02T08:08:17.437598",
          "exception": false,
          "start_time": "2025-10-02T08:08:17.410682",
          "status": "completed"
        },
        "tags": [],
        "id": "b46be7e8"
      },
      "source": [
        "# Data preprocessing :"
      ]
    },
    {
      "cell_type": "code",
      "execution_count": null,
      "id": "fa03a5a3",
      "metadata": {
        "execution": {
          "iopub.execute_input": "2025-10-02T08:08:17.494860Z",
          "iopub.status.busy": "2025-10-02T08:08:17.494470Z",
          "iopub.status.idle": "2025-10-02T08:08:17.500724Z",
          "shell.execute_reply": "2025-10-02T08:08:17.499736Z"
        },
        "papermill": {
          "duration": 0.037758,
          "end_time": "2025-10-02T08:08:17.502723",
          "exception": false,
          "start_time": "2025-10-02T08:08:17.464965",
          "status": "completed"
        },
        "tags": [],
        "id": "fa03a5a3"
      },
      "outputs": [],
      "source": [
        "encodage = {'green': 0, 'yellow': 1, 'orange': 2, 'red': 3}\n",
        "earthquake['alert'] = earthquake['alert'].map(encodage)"
      ]
    },
    {
      "cell_type": "code",
      "execution_count": null,
      "id": "19526dd6",
      "metadata": {
        "execution": {
          "iopub.execute_input": "2025-10-02T08:08:17.559840Z",
          "iopub.status.busy": "2025-10-02T08:08:17.559505Z",
          "iopub.status.idle": "2025-10-02T08:08:17.565209Z",
          "shell.execute_reply": "2025-10-02T08:08:17.564253Z"
        },
        "papermill": {
          "duration": 0.036543,
          "end_time": "2025-10-02T08:08:17.566836",
          "exception": false,
          "start_time": "2025-10-02T08:08:17.530293",
          "status": "completed"
        },
        "tags": [],
        "id": "19526dd6"
      },
      "outputs": [],
      "source": [
        "X = earthquake.drop('alert' , axis=1)\n",
        "y = earthquake['alert']"
      ]
    },
    {
      "cell_type": "code",
      "execution_count": null,
      "id": "f7b0c620",
      "metadata": {
        "execution": {
          "iopub.execute_input": "2025-10-02T08:08:17.624384Z",
          "iopub.status.busy": "2025-10-02T08:08:17.623650Z",
          "iopub.status.idle": "2025-10-02T08:08:17.631715Z",
          "shell.execute_reply": "2025-10-02T08:08:17.630817Z"
        },
        "papermill": {
          "duration": 0.039129,
          "end_time": "2025-10-02T08:08:17.633402",
          "exception": false,
          "start_time": "2025-10-02T08:08:17.594273",
          "status": "completed"
        },
        "tags": [],
        "id": "f7b0c620"
      },
      "outputs": [],
      "source": [
        "X_train , X_test , y_train , y_test = train_test_split(X , y , test_size=0.2 , random_state=42 , stratify=y)"
      ]
    },
    {
      "cell_type": "markdown",
      "id": "a67411f3",
      "metadata": {
        "papermill": {
          "duration": 0.028164,
          "end_time": "2025-10-02T08:08:17.688993",
          "exception": false,
          "start_time": "2025-10-02T08:08:17.660829",
          "status": "completed"
        },
        "tags": [],
        "id": "a67411f3"
      },
      "source": [
        "# Developpement du modèle et optimisation"
      ]
    },
    {
      "cell_type": "markdown",
      "id": "7c60c057",
      "metadata": {
        "papermill": {
          "duration": 0.027055,
          "end_time": "2025-10-02T08:08:17.743519",
          "exception": false,
          "start_time": "2025-10-02T08:08:17.716464",
          "status": "completed"
        },
        "tags": [],
        "id": "7c60c057"
      },
      "source": [
        "## 1) Pipeline de Preprocessing"
      ]
    },
    {
      "cell_type": "code",
      "execution_count": null,
      "id": "6f2f6d06",
      "metadata": {
        "execution": {
          "iopub.execute_input": "2025-10-02T08:08:17.800653Z",
          "iopub.status.busy": "2025-10-02T08:08:17.799810Z",
          "iopub.status.idle": "2025-10-02T08:08:17.804602Z",
          "shell.execute_reply": "2025-10-02T08:08:17.803816Z"
        },
        "papermill": {
          "duration": 0.035618,
          "end_time": "2025-10-02T08:08:17.806258",
          "exception": false,
          "start_time": "2025-10-02T08:08:17.770640",
          "status": "completed"
        },
        "tags": [],
        "id": "6f2f6d06"
      },
      "outputs": [],
      "source": [
        "encoder = make_pipeline(PolynomialFeatures(degree=2,include_bias=False) , RobustScaler()) # pré-traiter les données numériques"
      ]
    },
    {
      "cell_type": "code",
      "execution_count": null,
      "id": "de7b3cb4",
      "metadata": {
        "execution": {
          "iopub.execute_input": "2025-10-02T08:08:17.864664Z",
          "iopub.status.busy": "2025-10-02T08:08:17.864331Z",
          "iopub.status.idle": "2025-10-02T08:08:17.868932Z",
          "shell.execute_reply": "2025-10-02T08:08:17.867868Z"
        },
        "papermill": {
          "duration": 0.035855,
          "end_time": "2025-10-02T08:08:17.870485",
          "exception": false,
          "start_time": "2025-10-02T08:08:17.834630",
          "status": "completed"
        },
        "tags": [],
        "id": "de7b3cb4"
      },
      "outputs": [],
      "source": [
        "# model = make_pipeline(preprocesseur , SelectKBest(score_func=f_classif, k=12) , DecisionTreeClassifier(random_state=0))"
      ]
    },
    {
      "cell_type": "code",
      "execution_count": null,
      "id": "e53012b3",
      "metadata": {
        "execution": {
          "iopub.execute_input": "2025-10-02T08:08:17.926696Z",
          "iopub.status.busy": "2025-10-02T08:08:17.926378Z",
          "iopub.status.idle": "2025-10-02T08:08:17.930629Z",
          "shell.execute_reply": "2025-10-02T08:08:17.929745Z"
        },
        "papermill": {
          "duration": 0.034422,
          "end_time": "2025-10-02T08:08:17.932289",
          "exception": false,
          "start_time": "2025-10-02T08:08:17.897867",
          "status": "completed"
        },
        "tags": [],
        "id": "e53012b3"
      },
      "outputs": [],
      "source": [
        "scaler = RobustScaler()"
      ]
    },
    {
      "cell_type": "code",
      "execution_count": null,
      "id": "833faabf",
      "metadata": {
        "execution": {
          "iopub.execute_input": "2025-10-02T08:08:17.989386Z",
          "iopub.status.busy": "2025-10-02T08:08:17.988628Z",
          "iopub.status.idle": "2025-10-02T08:08:18.456749Z",
          "shell.execute_reply": "2025-10-02T08:08:18.455715Z"
        },
        "papermill": {
          "duration": 0.498695,
          "end_time": "2025-10-02T08:08:18.458695",
          "exception": false,
          "start_time": "2025-10-02T08:08:17.960000",
          "status": "completed"
        },
        "tags": [],
        "id": "833faabf"
      },
      "outputs": [],
      "source": [
        "from xgboost import XGBClassifier"
      ]
    },
    {
      "cell_type": "code",
      "execution_count": null,
      "id": "d8f15949",
      "metadata": {
        "execution": {
          "iopub.execute_input": "2025-10-02T08:08:18.515395Z",
          "iopub.status.busy": "2025-10-02T08:08:18.514676Z",
          "iopub.status.idle": "2025-10-02T08:08:18.520555Z",
          "shell.execute_reply": "2025-10-02T08:08:18.519664Z"
        },
        "papermill": {
          "duration": 0.035857,
          "end_time": "2025-10-02T08:08:18.522099",
          "exception": false,
          "start_time": "2025-10-02T08:08:18.486242",
          "status": "completed"
        },
        "tags": [],
        "id": "d8f15949"
      },
      "outputs": [],
      "source": [
        "models = {'LogisticRegression' : LogisticRegression(random_state=0 , max_iter=1000) ,\n",
        "          'KNN' : KNeighborsClassifier() ,\n",
        "          'SVC' : SVC(random_state=0) ,\n",
        "          'DecisionTree' : DecisionTreeClassifier(random_state=0) ,\n",
        "          'RandomForest' : RandomForestClassifier(random_state=0) ,\n",
        "          'XGBoost': XGBClassifier(use_label_encoder=False, eval_metric='mlogloss', random_state=0)\n",
        "         }"
      ]
    },
    {
      "cell_type": "code",
      "execution_count": null,
      "id": "8b2f1b8e",
      "metadata": {
        "execution": {
          "iopub.execute_input": "2025-10-02T08:08:18.581054Z",
          "iopub.status.busy": "2025-10-02T08:08:18.580707Z",
          "iopub.status.idle": "2025-10-02T08:08:18.599790Z",
          "shell.execute_reply": "2025-10-02T08:08:18.598856Z"
        },
        "papermill": {
          "duration": 0.05043,
          "end_time": "2025-10-02T08:08:18.601459",
          "exception": false,
          "start_time": "2025-10-02T08:08:18.551029",
          "status": "completed"
        },
        "tags": [],
        "id": "8b2f1b8e"
      },
      "outputs": [],
      "source": [
        "def train_and_evaluate(model, X_train, y_train, X_test, y_test, scoring='accuracy'):\n",
        "    # Entraînement\n",
        "    model.fit(X_train, y_train)\n",
        "\n",
        "    # Courbe d'apprentissage\n",
        "    print(\"*************** Courbe d'apprentissage *******************\")\n",
        "    N, train_score, test_score = learning_curve(\n",
        "        model,\n",
        "        X_train,\n",
        "        y_train,\n",
        "        cv=5,\n",
        "        scoring=scoring,\n",
        "        train_sizes=np.linspace(0.1, 1, 10)\n",
        "    )\n",
        "\n",
        "    plt.figure(figsize=(6, 4))\n",
        "    plt.plot(N, train_score.mean(axis=1), label='Train score')\n",
        "    plt.plot(N, test_score.mean(axis=1), label='Test score')\n",
        "    plt.xlabel(\"Taille d'échantillon d'entraînement\")\n",
        "    plt.ylabel(scoring.capitalize())\n",
        "    plt.legend()\n",
        "    plt.title(\"Courbe d'apprentissage\")\n",
        "    plt.show()\n",
        "\n",
        "    # Évaluation\n",
        "    print(\"*************** Évaluation du modèle *******************\")\n",
        "    y_pred = model.predict(X_test)\n",
        "\n",
        "    print(\"Accuracy sur le test:\", accuracy_score(y_test, y_pred))\n",
        "    print(\"Classification Report :\\n\", classification_report(y_test, y_pred))\n",
        "\n",
        "    print(\"Matrice de confusion :\")\n",
        "    plt.figure(figsize=(5, 4))\n",
        "    sns.heatmap(confusion_matrix(y_test, y_pred), annot=True, fmt=\"d\", cmap=\"Blues\")\n",
        "    plt.xlabel(\"Prédictions\")\n",
        "    plt.ylabel(\"Vérités\")\n",
        "    plt.title(\"Matrice de confusion\")\n",
        "    plt.show()\n",
        "\n",
        "    # ROC + PR pour les modèles qui supportent predict_proba\n",
        "    if hasattr(model, \"predict_proba\"):\n",
        "        y_proba = model.predict_proba(X_test)\n",
        "\n",
        "        # Binariser les labels si multi-classes\n",
        "        classes = np.unique(y_test)\n",
        "        if len(classes) > 2:\n",
        "            y_test_bin = label_binarize(y_test, classes=classes)\n",
        "\n",
        "            # ROC et AUC pour chaque classe\n",
        "            plt.figure(figsize=(6, 4))\n",
        "            for i, class_name in enumerate(classes):\n",
        "                fpr, tpr, _ = roc_curve(y_test_bin[:, i], y_proba[:, i])\n",
        "                roc_auc = auc(fpr, tpr)\n",
        "                plt.plot(fpr, tpr, label=f'{class_name} (AUC = {roc_auc:.2f})')\n",
        "            plt.plot([0, 1], [0, 1], 'k--')\n",
        "            plt.xlabel(\"FPR\")\n",
        "            plt.ylabel(\"TPR\")\n",
        "            plt.title(\"Courbes ROC multi-classes\")\n",
        "            plt.legend()\n",
        "            plt.show()\n",
        "        else:\n",
        "            # Binaire\n",
        "            y_proba_bin = y_proba[:, 1]\n",
        "            fpr, tpr, _ = roc_curve(y_test, y_proba_bin)\n",
        "            roc_auc_score_val = roc_auc_score(y_test, y_proba_bin)\n",
        "            plt.figure(figsize=(6, 4))\n",
        "            plt.plot(fpr, tpr, label=f\"ROC (AUC = {roc_auc_score_val:.2f})\")\n",
        "            plt.plot([0, 1], [0, 1], \"k--\")\n",
        "            plt.xlabel(\"FPR\")\n",
        "            plt.ylabel(\"TPR\")\n",
        "            plt.title(\"Courbe ROC\")\n",
        "            plt.legend()\n",
        "            plt.show()\n",
        "\n",
        "        # Precision-Recall\n",
        "        if len(classes) > 2:\n",
        "            plt.figure(figsize=(6, 4))\n",
        "            for i, class_name in enumerate(classes):\n",
        "                precision, recall, _ = precision_recall_curve(y_test_bin[:, i], y_proba[:, i])\n",
        "                ap = average_precision_score(y_test_bin[:, i], y_proba[:, i])\n",
        "                plt.plot(recall, precision, label=f'{class_name} (AP={ap:.2f})')\n",
        "            plt.xlabel(\"Recall\")\n",
        "            plt.ylabel(\"Precision\")\n",
        "            plt.title(\"Courbes Precision-Recall multi-classes\")\n",
        "            plt.legend()\n",
        "            plt.show()\n",
        "        else:\n",
        "            precision, recall, _ = precision_recall_curve(y_test, y_proba[:, 1])\n",
        "            ap = average_precision_score(y_test, y_proba[:, 1])\n",
        "            plt.figure(figsize=(6, 4))\n",
        "            plt.plot(recall, precision, label=f\"PR (AP = {ap:.2f})\")\n",
        "            plt.xlabel(\"Recall\")\n",
        "            plt.ylabel(\"Precision\")\n",
        "            plt.title(\"Courbe Precision-Recall\")\n",
        "            plt.legend()\n",
        "            plt.show()\n",
        "\n",
        "    else:\n",
        "        print(\"⚠️ Ce modèle ne supporte pas predict_proba, ROC/AUC et PR ne peuvent pas être tracés.\")\n"
      ]
    },
    {
      "cell_type": "code",
      "execution_count": null,
      "id": "02365633",
      "metadata": {
        "execution": {
          "iopub.execute_input": "2025-10-02T08:08:18.658223Z",
          "iopub.status.busy": "2025-10-02T08:08:18.657365Z",
          "iopub.status.idle": "2025-10-02T08:08:48.995848Z",
          "shell.execute_reply": "2025-10-02T08:08:48.994714Z"
        },
        "papermill": {
          "duration": 30.368703,
          "end_time": "2025-10-02T08:08:48.997511",
          "exception": false,
          "start_time": "2025-10-02T08:08:18.628808",
          "status": "completed"
        },
        "tags": [],
        "id": "02365633",
        "outputId": "ac5115dd-ae3e-4470-902b-bf9be3f9ffc8",
        "colab": {
          "base_uri": "https://localhost:8080/",
          "height": 193
        }
      },
      "outputs": [
        {
          "output_type": "error",
          "ename": "NameError",
          "evalue": "name 'models' is not defined",
          "traceback": [
            "\u001b[0;31m---------------------------------------------------------------------------\u001b[0m",
            "\u001b[0;31mNameError\u001b[0m                                 Traceback (most recent call last)",
            "\u001b[0;32m/tmp/ipython-input-1840820495.py\u001b[0m in \u001b[0;36m<cell line: 0>\u001b[0;34m()\u001b[0m\n\u001b[0;32m----> 1\u001b[0;31m \u001b[0;32mfor\u001b[0m \u001b[0mname\u001b[0m\u001b[0;34m,\u001b[0m  \u001b[0mmodel\u001b[0m \u001b[0;32min\u001b[0m \u001b[0mmodels\u001b[0m\u001b[0;34m.\u001b[0m\u001b[0mitems\u001b[0m\u001b[0;34m(\u001b[0m\u001b[0;34m)\u001b[0m \u001b[0;34m:\u001b[0m\u001b[0;34m\u001b[0m\u001b[0;34m\u001b[0m\u001b[0m\n\u001b[0m\u001b[1;32m      2\u001b[0m     \u001b[0mprint\u001b[0m\u001b[0;34m(\u001b[0m\u001b[0mname\u001b[0m\u001b[0;34m)\u001b[0m\u001b[0;34m\u001b[0m\u001b[0;34m\u001b[0m\u001b[0m\n\u001b[1;32m      3\u001b[0m     \u001b[0mestimator\u001b[0m \u001b[0;34m=\u001b[0m \u001b[0mmake_pipeline\u001b[0m\u001b[0;34m(\u001b[0m\u001b[0mRobustScaler\u001b[0m\u001b[0;34m(\u001b[0m\u001b[0;34m)\u001b[0m \u001b[0;34m,\u001b[0m \u001b[0mmodel\u001b[0m\u001b[0;34m)\u001b[0m\u001b[0;34m\u001b[0m\u001b[0;34m\u001b[0m\u001b[0m\n\u001b[1;32m      4\u001b[0m     \u001b[0mtrain_and_evaluate\u001b[0m\u001b[0;34m(\u001b[0m\u001b[0mestimator\u001b[0m\u001b[0;34m,\u001b[0m \u001b[0mX_train\u001b[0m\u001b[0;34m,\u001b[0m \u001b[0my_train\u001b[0m\u001b[0;34m,\u001b[0m \u001b[0mX_test\u001b[0m\u001b[0;34m,\u001b[0m \u001b[0my_test\u001b[0m\u001b[0;34m,\u001b[0m \u001b[0mscoring\u001b[0m\u001b[0;34m=\u001b[0m\u001b[0;34m'accuracy'\u001b[0m\u001b[0;34m)\u001b[0m\u001b[0;34m\u001b[0m\u001b[0;34m\u001b[0m\u001b[0m\n",
            "\u001b[0;31mNameError\u001b[0m: name 'models' is not defined"
          ]
        }
      ],
      "source": [
        "for name,  model in models.items() :\n",
        "    print(name)\n",
        "    estimator = make_pipeline(RobustScaler() , model)\n",
        "    train_and_evaluate(estimator, X_train, y_train, X_test, y_test, scoring='accuracy')"
      ]
    },
    {
      "cell_type": "markdown",
      "id": "41757ffa",
      "metadata": {
        "papermill": {
          "duration": 0.044997,
          "end_time": "2025-10-02T08:08:49.088621",
          "exception": false,
          "start_time": "2025-10-02T08:08:49.043624",
          "status": "completed"
        },
        "tags": [],
        "id": "41757ffa"
      },
      "source": [
        "### Classement des modèles :\n",
        "\n",
        "1) XGBoost\n",
        "\n",
        "2) RandomForest\n",
        "\n",
        "3) KNN"
      ]
    },
    {
      "cell_type": "code",
      "execution_count": null,
      "id": "db98bc1a",
      "metadata": {
        "execution": {
          "iopub.execute_input": "2025-10-02T08:08:49.175796Z",
          "iopub.status.busy": "2025-10-02T08:08:49.175439Z",
          "iopub.status.idle": "2025-10-02T08:09:03.754172Z",
          "shell.execute_reply": "2025-10-02T08:09:03.753046Z"
        },
        "papermill": {
          "duration": 14.624554,
          "end_time": "2025-10-02T08:09:03.756026",
          "exception": false,
          "start_time": "2025-10-02T08:08:49.131472",
          "status": "completed"
        },
        "tags": [],
        "id": "db98bc1a"
      },
      "outputs": [],
      "source": [
        "Bagging_KNN  = BaggingClassifier(KNeighborsClassifier() , n_estimators=50)\n",
        "model = make_pipeline(RobustScaler() , Bagging_KNN)\n",
        "train_and_evaluate(model, X_train, y_train, X_test, y_test)"
      ]
    },
    {
      "cell_type": "code",
      "execution_count": null,
      "id": "51388c1d",
      "metadata": {
        "execution": {
          "iopub.execute_input": "2025-10-02T08:09:03.852834Z",
          "iopub.status.busy": "2025-10-02T08:09:03.852476Z",
          "iopub.status.idle": "2025-10-02T08:09:13.373821Z",
          "shell.execute_reply": "2025-10-02T08:09:13.372675Z"
        },
        "papermill": {
          "duration": 9.570295,
          "end_time": "2025-10-02T08:09:13.375514",
          "exception": false,
          "start_time": "2025-10-02T08:09:03.805219",
          "status": "completed"
        },
        "tags": [],
        "id": "51388c1d"
      },
      "outputs": [],
      "source": [
        "model = XGBClassifier(use_label_encoder=False, eval_metric='mlogloss', random_state=0)\n",
        "train_and_evaluate(model, X_train, y_train, X_test, y_test)"
      ]
    },
    {
      "cell_type": "markdown",
      "id": "206214f4",
      "metadata": {
        "papermill": {
          "duration": 0.049326,
          "end_time": "2025-10-02T08:09:13.476976",
          "exception": false,
          "start_time": "2025-10-02T08:09:13.427650",
          "status": "completed"
        },
        "tags": [],
        "id": "206214f4"
      },
      "source": [
        "### Classement des modèles (Avec Bagging ) :\n",
        "\n",
        "1) XGBoost ( 0.91 )\n",
        "\n",
        "2) RandomForest ( 0.9 )\n",
        "\n",
        "3) KNN (0.88)"
      ]
    },
    {
      "cell_type": "code",
      "execution_count": null,
      "id": "f3becfbd",
      "metadata": {
        "execution": {
          "iopub.execute_input": "2025-10-02T08:09:13.577589Z",
          "iopub.status.busy": "2025-10-02T08:09:13.576691Z",
          "iopub.status.idle": "2025-10-02T08:09:13.582074Z",
          "shell.execute_reply": "2025-10-02T08:09:13.581057Z"
        },
        "papermill": {
          "duration": 0.05804,
          "end_time": "2025-10-02T08:09:13.583744",
          "exception": false,
          "start_time": "2025-10-02T08:09:13.525704",
          "status": "completed"
        },
        "tags": [],
        "id": "f3becfbd"
      },
      "outputs": [],
      "source": [
        "model1 = make_pipeline(RobustScaler() , XGBClassifier(use_label_encoder=False, eval_metric='mlogloss', random_state=0))\n",
        "model2 = make_pipeline(RobustScaler() , RandomForestClassifier(random_state=0))\n",
        "model3 = make_pipeline(RobustScaler() , Bagging_KNN)"
      ]
    },
    {
      "cell_type": "code",
      "execution_count": null,
      "id": "84962542",
      "metadata": {
        "execution": {
          "iopub.execute_input": "2025-10-02T08:09:13.681324Z",
          "iopub.status.busy": "2025-10-02T08:09:13.680696Z",
          "iopub.status.idle": "2025-10-02T08:09:49.761195Z",
          "shell.execute_reply": "2025-10-02T08:09:49.760159Z"
        },
        "papermill": {
          "duration": 36.131108,
          "end_time": "2025-10-02T08:09:49.763081",
          "exception": false,
          "start_time": "2025-10-02T08:09:13.631973",
          "status": "completed"
        },
        "tags": [],
        "id": "84962542"
      },
      "outputs": [],
      "source": [
        "for model in (model1 , model2 , model3) :\n",
        "    train_and_evaluate(model, X_train, y_train, X_test, y_test)"
      ]
    },
    {
      "cell_type": "code",
      "execution_count": null,
      "id": "1dce39d2",
      "metadata": {
        "execution": {
          "iopub.execute_input": "2025-10-02T08:09:49.883622Z",
          "iopub.status.busy": "2025-10-02T08:09:49.882789Z",
          "iopub.status.idle": "2025-10-02T08:09:49.888190Z",
          "shell.execute_reply": "2025-10-02T08:09:49.887273Z"
        },
        "papermill": {
          "duration": 0.067105,
          "end_time": "2025-10-02T08:09:49.889897",
          "exception": false,
          "start_time": "2025-10-02T08:09:49.822792",
          "status": "completed"
        },
        "tags": [],
        "id": "1dce39d2"
      },
      "outputs": [],
      "source": [
        "base_models = [('XGB', model1),('RandomForest', model2),('Bagging_KNN' , model3)]\n",
        "\n",
        "stacking = StackingClassifier(estimators=base_models,final_estimator=LogisticRegression(random_state=0) ,  cv=5)"
      ]
    },
    {
      "cell_type": "code",
      "execution_count": null,
      "id": "28708d5b",
      "metadata": {
        "execution": {
          "iopub.execute_input": "2025-10-02T08:09:50.005370Z",
          "iopub.status.busy": "2025-10-02T08:09:50.005027Z",
          "iopub.status.idle": "2025-10-02T08:12:24.037984Z",
          "shell.execute_reply": "2025-10-02T08:12:24.036893Z"
        },
        "papermill": {
          "duration": 154.093317,
          "end_time": "2025-10-02T08:12:24.039781",
          "exception": false,
          "start_time": "2025-10-02T08:09:49.946464",
          "status": "completed"
        },
        "tags": [],
        "id": "28708d5b"
      },
      "outputs": [],
      "source": [
        "train_and_evaluate(stacking, X_train, y_train, X_test, y_test)"
      ]
    },
    {
      "cell_type": "markdown",
      "id": "c3f93e26",
      "metadata": {
        "papermill": {
          "duration": 0.05878,
          "end_time": "2025-10-02T08:12:24.162281",
          "exception": false,
          "start_time": "2025-10-02T08:12:24.103501",
          "status": "completed"
        },
        "tags": [],
        "id": "c3f93e26"
      },
      "source": [
        "### Modèle choisi : stacking"
      ]
    },
    {
      "cell_type": "code",
      "execution_count": null,
      "id": "49c948b2",
      "metadata": {
        "execution": {
          "iopub.execute_input": "2025-10-02T08:12:24.281998Z",
          "iopub.status.busy": "2025-10-02T08:12:24.281642Z",
          "iopub.status.idle": "2025-10-02T08:12:24.355238Z",
          "shell.execute_reply": "2025-10-02T08:12:24.354199Z"
        },
        "papermill": {
          "duration": 0.135614,
          "end_time": "2025-10-02T08:12:24.357072",
          "exception": false,
          "start_time": "2025-10-02T08:12:24.221458",
          "status": "completed"
        },
        "tags": [],
        "id": "49c948b2"
      },
      "outputs": [],
      "source": [
        "stacking"
      ]
    },
    {
      "cell_type": "code",
      "execution_count": null,
      "id": "5590c022",
      "metadata": {
        "execution": {
          "iopub.execute_input": "2025-10-02T08:12:24.480063Z",
          "iopub.status.busy": "2025-10-02T08:12:24.478656Z",
          "iopub.status.idle": "2025-10-02T08:12:24.483823Z",
          "shell.execute_reply": "2025-10-02T08:12:24.482858Z"
        },
        "papermill": {
          "duration": 0.0686,
          "end_time": "2025-10-02T08:12:24.485634",
          "exception": false,
          "start_time": "2025-10-02T08:12:24.417034",
          "status": "completed"
        },
        "tags": [],
        "id": "5590c022"
      },
      "outputs": [],
      "source": [
        "final_model = stacking"
      ]
    },
    {
      "cell_type": "code",
      "execution_count": null,
      "id": "ea39e63c",
      "metadata": {
        "execution": {
          "iopub.execute_input": "2025-10-02T08:12:24.605962Z",
          "iopub.status.busy": "2025-10-02T08:12:24.604617Z",
          "iopub.status.idle": "2025-10-02T08:14:58.960416Z",
          "shell.execute_reply": "2025-10-02T08:14:58.959348Z"
        },
        "papermill": {
          "duration": 154.417288,
          "end_time": "2025-10-02T08:14:58.962153",
          "exception": false,
          "start_time": "2025-10-02T08:12:24.544865",
          "status": "completed"
        },
        "tags": [],
        "id": "ea39e63c"
      },
      "outputs": [],
      "source": [
        "train_and_evaluate(final_model, X_train, y_train, X_test, y_test)"
      ]
    },
    {
      "cell_type": "code",
      "execution_count": null,
      "id": "ff95f823",
      "metadata": {
        "execution": {
          "iopub.execute_input": "2025-10-02T08:14:59.092896Z",
          "iopub.status.busy": "2025-10-02T08:14:59.092007Z",
          "iopub.status.idle": "2025-10-02T08:14:59.277557Z",
          "shell.execute_reply": "2025-10-02T08:14:59.276436Z"
        },
        "papermill": {
          "duration": 0.251029,
          "end_time": "2025-10-02T08:14:59.279412",
          "exception": false,
          "start_time": "2025-10-02T08:14:59.028383",
          "status": "completed"
        },
        "tags": [],
        "id": "ff95f823"
      },
      "outputs": [],
      "source": [
        "import joblib\n",
        "\n",
        "joblib.dump(final_model, \"/kaggle/working/earthquake_model.joblib\")"
      ]
    },
    {
      "cell_type": "code",
      "execution_count": null,
      "id": "d2f36587",
      "metadata": {
        "execution": {
          "iopub.execute_input": "2025-10-02T08:14:59.404998Z",
          "iopub.status.busy": "2025-10-02T08:14:59.403962Z",
          "iopub.status.idle": "2025-10-02T08:14:59.566680Z",
          "shell.execute_reply": "2025-10-02T08:14:59.565494Z"
        },
        "papermill": {
          "duration": 0.227448,
          "end_time": "2025-10-02T08:14:59.568928",
          "exception": false,
          "start_time": "2025-10-02T08:14:59.341480",
          "status": "completed"
        },
        "tags": [],
        "id": "d2f36587"
      },
      "outputs": [],
      "source": [
        "final_model = joblib.load(\"/kaggle/working/earthquake_model.joblib\")"
      ]
    },
    {
      "cell_type": "code",
      "execution_count": null,
      "id": "d91fd240",
      "metadata": {
        "execution": {
          "iopub.execute_input": "2025-10-02T08:14:59.693374Z",
          "iopub.status.busy": "2025-10-02T08:14:59.693064Z",
          "iopub.status.idle": "2025-10-02T08:14:59.824038Z",
          "shell.execute_reply": "2025-10-02T08:14:59.822648Z"
        },
        "papermill": {
          "duration": 0.195059,
          "end_time": "2025-10-02T08:14:59.825732",
          "exception": false,
          "start_time": "2025-10-02T08:14:59.630673",
          "status": "completed"
        },
        "tags": [],
        "id": "d91fd240"
      },
      "outputs": [],
      "source": [
        "y_pred = final_model.predict(X_test)\n",
        "print(classification_report(y_test , y_pred))\n",
        "print(accuracy_score(y_test , y_pred))"
      ]
    },
    {
      "cell_type": "code",
      "execution_count": null,
      "id": "e79928e0",
      "metadata": {
        "execution": {
          "iopub.execute_input": "2025-10-02T08:14:59.952326Z",
          "iopub.status.busy": "2025-10-02T08:14:59.951991Z",
          "iopub.status.idle": "2025-10-02T08:14:59.956237Z",
          "shell.execute_reply": "2025-10-02T08:14:59.955322Z"
        },
        "papermill": {
          "duration": 0.070015,
          "end_time": "2025-10-02T08:14:59.957995",
          "exception": false,
          "start_time": "2025-10-02T08:14:59.887980",
          "status": "completed"
        },
        "tags": [],
        "id": "e79928e0"
      },
      "outputs": [],
      "source": [
        "                                                          #################################################################### FIN ########################################################################"
      ]
    }
  ],
  "metadata": {
    "kaggle": {
      "accelerator": "none",
      "dataSources": [
        {
          "datasetId": 8299920,
          "sourceId": 13102683,
          "sourceType": "datasetVersion"
        }
      ],
      "dockerImageVersionId": 31089,
      "isGpuEnabled": false,
      "isInternetEnabled": true,
      "language": "python",
      "sourceType": "notebook"
    },
    "kernelspec": {
      "display_name": "Python 3",
      "language": "python",
      "name": "python3"
    },
    "language_info": {
      "codemirror_mode": {
        "name": "ipython",
        "version": 3
      },
      "file_extension": ".py",
      "mimetype": "text/x-python",
      "name": "python",
      "nbconvert_exporter": "python",
      "pygments_lexer": "ipython3",
      "version": "3.11.13"
    },
    "papermill": {
      "default_parameters": {},
      "duration": 431.387384,
      "end_time": "2025-10-02T08:15:00.944463",
      "environment_variables": {},
      "exception": null,
      "input_path": "__notebook__.ipynb",
      "output_path": "__notebook__.ipynb",
      "parameters": {},
      "start_time": "2025-10-02T08:07:49.557079",
      "version": "2.6.0"
    },
    "colab": {
      "provenance": [],
      "include_colab_link": true
    }
  },
  "nbformat": 4,
  "nbformat_minor": 5
}